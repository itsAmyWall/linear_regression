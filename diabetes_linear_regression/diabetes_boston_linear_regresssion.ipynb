{
  "nbformat": 4,
  "nbformat_minor": 0,
  "metadata": {
    "colab": {
      "provenance": []
    },
    "kernelspec": {
      "name": "python3",
      "display_name": "Python 3"
    },
    "language_info": {
      "name": "python"
    }
  },
  "cells": [
    {
      "cell_type": "markdown",
      "source": [
        "# Linear Regression Model in Python"
      ],
      "metadata": {
        "id": "jY_qVreqbcBY"
      }
    },
    {
      "cell_type": "markdown",
      "source": [
        "Load the Diabetes dataset (via scikit-learn)\n"
      ],
      "metadata": {
        "id": "S0l8zJGxbhfr"
      }
    },
    {
      "cell_type": "code",
      "source": [
        "from sklearn import datasets\n"
      ],
      "metadata": {
        "id": "jXzVp9kpbmDi"
      },
      "execution_count": 1,
      "outputs": []
    },
    {
      "cell_type": "code",
      "source": [
        "diabetes = datasets.load_diabetes()\n"
      ],
      "metadata": {
        "id": "G5i4YiSvbmg3"
      },
      "execution_count": null,
      "outputs": []
    },
    {
      "cell_type": "code",
      "source": [
        "diabetes\n"
      ],
      "metadata": {
        "id": "Hm8xZAnbboSu"
      },
      "execution_count": null,
      "outputs": []
    },
    {
      "cell_type": "markdown",
      "source": [
        "Description of the Diabetes dataset\n"
      ],
      "metadata": {
        "id": "u1V0fUqRbwDR"
      }
    },
    {
      "cell_type": "code",
      "source": [
        "print(diabetes.DESCR)\n"
      ],
      "metadata": {
        "id": "IbePxAsCbwyh"
      },
      "execution_count": null,
      "outputs": []
    },
    {
      "cell_type": "markdown",
      "source": [
        "Feature names\n"
      ],
      "metadata": {
        "id": "QlbZyI2yb17e"
      }
    },
    {
      "cell_type": "code",
      "source": [
        "print(diabetes.feature_names)\n"
      ],
      "metadata": {
        "id": "SYiZkjGub2xM"
      },
      "execution_count": null,
      "outputs": []
    },
    {
      "cell_type": "markdown",
      "source": [
        "Create X and Y data matrices\n"
      ],
      "metadata": {
        "id": "eXFAtsWTb6Fd"
      }
    },
    {
      "cell_type": "code",
      "source": [
        "X = diabetes.data\n",
        "Y = diabetes.target"
      ],
      "metadata": {
        "id": "TOEmlEgUb9tk"
      },
      "execution_count": null,
      "outputs": []
    },
    {
      "cell_type": "code",
      "source": [
        "X.shape, Y.shape\n"
      ],
      "metadata": {
        "id": "BrvSeFXLb_pi"
      },
      "execution_count": null,
      "outputs": []
    },
    {
      "cell_type": "markdown",
      "source": [],
      "metadata": {
        "id": "sGbaf4bpcBUR"
      }
    },
    {
      "cell_type": "markdown",
      "source": [
        "Load dataset + Create X and Y data matrices (in 1 step)\n"
      ],
      "metadata": {
        "id": "nGohmkaGcBb9"
      }
    },
    {
      "cell_type": "code",
      "source": [
        "X, Y = datasets.load_diabetes(return_X_y=True)\n"
      ],
      "metadata": {
        "id": "uHlWdl9PcE4a"
      },
      "execution_count": null,
      "outputs": []
    },
    {
      "cell_type": "code",
      "source": [
        "X.shape, Y.shape\n"
      ],
      "metadata": {
        "id": "E987kfPhcJ5w"
      },
      "execution_count": null,
      "outputs": []
    }
  ]
}